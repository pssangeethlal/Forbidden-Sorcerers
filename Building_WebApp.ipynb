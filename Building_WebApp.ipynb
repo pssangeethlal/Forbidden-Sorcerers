{
 "cells": [
  {
   "cell_type": "code",
   "execution_count": 8,
   "metadata": {},
   "outputs": [
    {
     "name": "stdout",
     "output_type": "stream",
     "text": [
      "Overwriting ikka_or_ettan_app.py\n"
     ]
    }
   ],
   "source": [
    "%%writefile ikka_or_ettan_app.py\n",
    "import streamlit as st\n",
    "\n",
    "from keras.models import load_model\n",
    "st.set_option('deprecation.showfileUploaderEncoding',False)\n",
    "@st.cache(allow_output_mutation=True)\n",
    "def load_model1():\n",
    "    model = load_model('best_modelA_2.h5')\n",
    "    return model\n",
    "model=load_model1()\n",
    "st.write(\"\"\"\n",
    "        # The Mohanlal Mammootty Classifier!!!\n",
    "         \"\"\")\n",
    "file = st.file_uploader(\"Please upload the Image\", type=[\"jpg\",\"jpeg\",\"png\"])\n",
    "import numpy as np\n",
    "from keras.preprocessing import image\n",
    "from PIL import Image, ImageOps\n",
    "def import_and_predict(test_image, model):\n",
    "    size = (227,227)\n",
    "    test_image = ImageOps.fit(test_image, size, Image.ANTIALIAS)\n",
    "\n",
    "    test_image = image.img_to_array(test_image)\n",
    "    test_image = np.array([test_image], dtype=np.float16) / 255.0\n",
    "    prediction = model.predict(test_image)\n",
    "    return prediction\n",
    "if file is None:\n",
    "    st.text(\"Please upload an image file\")\n",
    "else:\n",
    "    test_image = Image.open(file)\n",
    "    st.image(test_image, width= 400)\n",
    "    predictions = import_and_predict(test_image,model)\n",
    "    \n",
    "    categories = [\"Mammootty\",\"Mohanlal\"]\n",
    "    string=\"The Uploaded image most likely to be \"+categories[np.argmax(predictions)]\n",
    "    st.success(string)\n",
    "    \n",
    "    \n",
    "    \n"
   ]
  },
  {
   "cell_type": "code",
   "execution_count": null,
   "metadata": {},
   "outputs": [],
   "source": [
    "!streamlit run ikka_or_ettan_app.py"
   ]
  },
  {
   "cell_type": "code",
   "execution_count": null,
   "metadata": {},
   "outputs": [],
   "source": []
  }
 ],
 "metadata": {
  "kernelspec": {
   "display_name": "Python 3",
   "language": "python",
   "name": "python3"
  },
  "language_info": {
   "codemirror_mode": {
    "name": "ipython",
    "version": 3
   },
   "file_extension": ".py",
   "mimetype": "text/x-python",
   "name": "python",
   "nbconvert_exporter": "python",
   "pygments_lexer": "ipython3",
   "version": "3.8.5"
  }
 },
 "nbformat": 4,
 "nbformat_minor": 4
}
